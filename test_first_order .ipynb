{
  "nbformat": 4,
  "nbformat_minor": 0,
  "metadata": {
    "colab": {
      "name": "test_first_order.ipynb",
      "provenance": [],
      "collapsed_sections": []
    },
    "kernelspec": {
      "name": "python3",
      "display_name": "Python 3"
    },
    "accelerator": "GPU"
  },
  "cells": [
    {
      "cell_type": "markdown",
      "metadata": {
        "id": "4lhBYhjFHwQ1"
      },
      "source": [
        "バージョン下げると映像がグチャグチャ\n",
        "\n",
        "バージョンそのままだとエラーでる"
      ]
    },
    {
      "cell_type": "code",
      "metadata": {
        "id": "hlJDO_xanbXk"
      },
      "source": [
        "!pip install scipy==1.2.0\n",
        "!pip install flask-ngrok flask==0.12.2"
      ],
      "execution_count": null,
      "outputs": []
    },
    {
      "cell_type": "code",
      "metadata": {
        "id": "pBRg5zcBnvxP",
        "outputId": "b7aae4ed-98f8-4efb-a364-9c05f3ad3364",
        "colab": {
          "base_uri": "https://localhost:8080/",
          "height": 397
        }
      },
      "source": [
        "!pip install flask-ngrok flask==0.12.2"
      ],
      "execution_count": 1,
      "outputs": [
        {
          "output_type": "stream",
          "text": [
            "Collecting flask-ngrok\n",
            "  Downloading https://files.pythonhosted.org/packages/af/6c/f54cb686ad1129e27d125d182f90f52b32f284e6c8df58c1bae54fa1adbc/flask_ngrok-0.0.25-py3-none-any.whl\n",
            "Collecting flask==0.12.2\n",
            "\u001b[?25l  Downloading https://files.pythonhosted.org/packages/77/32/e3597cb19ffffe724ad4bf0beca4153419918e7fa4ba6a34b04ee4da3371/Flask-0.12.2-py2.py3-none-any.whl (83kB)\n",
            "\u001b[K     |████████████████████████████████| 92kB 5.9MB/s \n",
            "\u001b[?25hRequirement already satisfied: requests in /usr/local/lib/python3.6/dist-packages (from flask-ngrok) (2.23.0)\n",
            "Requirement already satisfied: Werkzeug>=0.7 in /usr/local/lib/python3.6/dist-packages (from flask==0.12.2) (1.0.1)\n",
            "Requirement already satisfied: itsdangerous>=0.21 in /usr/local/lib/python3.6/dist-packages (from flask==0.12.2) (1.1.0)\n",
            "Requirement already satisfied: Jinja2>=2.4 in /usr/local/lib/python3.6/dist-packages (from flask==0.12.2) (2.11.2)\n",
            "Requirement already satisfied: click>=2.0 in /usr/local/lib/python3.6/dist-packages (from flask==0.12.2) (7.1.2)\n",
            "Requirement already satisfied: urllib3!=1.25.0,!=1.25.1,<1.26,>=1.21.1 in /usr/local/lib/python3.6/dist-packages (from requests->flask-ngrok) (1.24.3)\n",
            "Requirement already satisfied: certifi>=2017.4.17 in /usr/local/lib/python3.6/dist-packages (from requests->flask-ngrok) (2020.6.20)\n",
            "Requirement already satisfied: chardet<4,>=3.0.2 in /usr/local/lib/python3.6/dist-packages (from requests->flask-ngrok) (3.0.4)\n",
            "Requirement already satisfied: idna<3,>=2.5 in /usr/local/lib/python3.6/dist-packages (from requests->flask-ngrok) (2.10)\n",
            "Requirement already satisfied: MarkupSafe>=0.23 in /usr/local/lib/python3.6/dist-packages (from Jinja2>=2.4->flask==0.12.2) (1.1.1)\n",
            "Installing collected packages: flask, flask-ngrok\n",
            "  Found existing installation: Flask 1.1.2\n",
            "    Uninstalling Flask-1.1.2:\n",
            "      Successfully uninstalled Flask-1.1.2\n",
            "Successfully installed flask-0.12.2 flask-ngrok-0.0.25\n"
          ],
          "name": "stdout"
        }
      ]
    },
    {
      "cell_type": "code",
      "metadata": {
        "id": "dqLtMFJ2newJ",
        "outputId": "243a4764-2c89-4e0f-aa34-16cfbcb28cee",
        "colab": {
          "base_uri": "https://localhost:8080/",
          "height": 107
        }
      },
      "source": [
        "!git clone https://github.com/AliaksandrSiarohin/first-order-model"
      ],
      "execution_count": 2,
      "outputs": [
        {
          "output_type": "stream",
          "text": [
            "Cloning into 'first-order-model'...\n",
            "remote: Enumerating objects: 249, done.\u001b[K\n",
            "remote: Total 249 (delta 0), reused 0 (delta 0), pack-reused 249\u001b[K\n",
            "Receiving objects: 100% (249/249), 72.12 MiB | 18.84 MiB/s, done.\n",
            "Resolving deltas: 100% (123/123), done.\n"
          ],
          "name": "stdout"
        }
      ]
    },
    {
      "cell_type": "code",
      "metadata": {
        "id": "nNvJRj21nhmq",
        "outputId": "838ae5e4-3c8c-41c4-9b3c-c51150d0144a",
        "colab": {
          "base_uri": "https://localhost:8080/",
          "height": 35
        }
      },
      "source": [
        "cd /content/first-order-model"
      ],
      "execution_count": 3,
      "outputs": [
        {
          "output_type": "stream",
          "text": [
            "/content/first-order-model\n"
          ],
          "name": "stdout"
        }
      ]
    },
    {
      "cell_type": "code",
      "metadata": {
        "id": "eha-xMArnhlD",
        "outputId": "bf6ecb39-ef36-457e-f7c8-3ef78106f319",
        "colab": {
          "base_uri": "https://localhost:8080/",
          "height": 35
        }
      },
      "source": [
        "from google.colab import drive\n",
        "drive.mount('/content/drive')"
      ],
      "execution_count": 4,
      "outputs": [
        {
          "output_type": "stream",
          "text": [
            "Mounted at /content/drive\n"
          ],
          "name": "stdout"
        }
      ]
    },
    {
      "cell_type": "code",
      "metadata": {
        "id": "1VN8hs3ZhdnZ"
      },
      "source": [
        "import os\n",
        "#Writing to html file on colab\n",
        "\n",
        "html = \"\"\"\n",
        "\n",
        "<!DOCTYPE html>\n",
        "<html>\n",
        "<head>\n",
        "<meta charset=\"utf-8\" />\n",
        "</head>\n",
        "<body>\n",
        "\n",
        "<form action=\"/post\" method=\"post\" enctype=\"multipart/form-data\">\n",
        "    <p><input type=\"file\" name=\"uploadFile\"/></p>\n",
        "    <p><input type=\"submit\" value=\"send\"/></p>\n",
        "</form>\n",
        "\n",
        "{% if ulr_Image %}\n",
        "\n",
        "    <p>Image</p>\n",
        "    <p><img src=\"ulr_Image\"></p>\n",
        "    <p><<source src=\" driving_video\"></p>\n",
        "    <p>Result</p>   \n",
        "    <p><<source src=\"predictions\"></p>\n",
        "\n",
        "{% endif %}\n",
        "\n",
        "</body>\n",
        "</html>\n",
        "\n",
        "\"\"\"\n",
        "\n",
        "#Saving html file\n",
        "if not os.path.isdir( \"templates\"):\n",
        "    os.makedirs( \"templates\")\n",
        "with open(\"templates/index.html\", mode='w') as f:\n",
        "    f.write(html)\n",
        "\n",
        "#Making tmp folder to use temporarily stored\n",
        "if not os.path.isdir(\"tmp\"):\n",
        "    os.makedirs(\"tmp\")"
      ],
      "execution_count": 5,
      "outputs": []
    },
    {
      "cell_type": "code",
      "metadata": {
        "id": "ex3xmjN6jvjn"
      },
      "source": [
        "def imageResize(img):\n",
        "    img = resize(img, (256, 256))[..., :3]\n",
        "\n",
        "    return img"
      ],
      "execution_count": 18,
      "outputs": []
    },
    {
      "cell_type": "code",
      "metadata": {
        "id": "M5Nqq4Q2hdk4"
      },
      "source": [
        "import imageio\n",
        "import numpy as np\n",
        "import matplotlib.pyplot as plt\n",
        "import matplotlib.animation as animation\n",
        "from skimage.transform import resize\n",
        "from IPython.display import HTML\n",
        "from skimage import io\n",
        "import warnings\n",
        "warnings.filterwarnings(\"ignore\")\n",
        "\n",
        "# source_image = imageio.imread('/content/drive/My Drive/FOMM/cou1.jpg')\n",
        "reader = imageio.get_reader('/content/drive/My Drive/FOMM/04.mp4')\n",
        "\n",
        "\n",
        "#Resize image and video to 256x256\n",
        "\n",
        "# source_image = resize(source_image, (256, 256))[..., :3]\n",
        "\n",
        "fps = reader.get_meta_data()['fps']\n",
        "driving_video = []\n",
        "try:\n",
        "    for im in reader:\n",
        "        driving_video.append(im)\n",
        "except RuntimeError:\n",
        "    pass\n",
        "reader.close()\n",
        "\n",
        "driving_video = [resize(frame, (256, 256))[..., :3] for frame in driving_video]\n",
        "\n",
        "\n",
        "def display(source, driving, generated=None):\n",
        "    fig = plt.figure(figsize=(8 + 4 * (generated is not None), 6))\n",
        "\n",
        "    ims = []\n",
        "    for i in range(len(driving)):\n",
        "        cols = [source]\n",
        "        cols.append(driving[i])\n",
        "        if generated is not None:\n",
        "            cols.append(generated[i])\n",
        "        im = plt.imshow(np.concatenate(cols, axis=1), animated=True)\n",
        "        plt.axis('off')\n",
        "        ims.append([im])\n",
        "\n",
        "    ani = animation.ArtistAnimation(fig, ims, interval=50, repeat_delay=1000)\n",
        "    plt.close()\n",
        "    return ani"
      ],
      "execution_count": 19,
      "outputs": []
    },
    {
      "cell_type": "markdown",
      "metadata": {
        "id": "W8Q_aD5Twlu1"
      },
      "source": [
        "first order"
      ]
    },
    {
      "cell_type": "code",
      "metadata": {
        "id": "ldDFvOJshdip",
        "outputId": "04fc7442-af72-4fea-a4e3-57c27cea57e9",
        "colab": {
          "base_uri": "https://localhost:8080/",
          "height": 289
        }
      },
      "source": [
        "from demo import load_checkpoints\n",
        "from demo import make_animation\n",
        "from skimage import img_as_ubyte\n",
        "from flask import Flask, render_template, send_from_directory, request, redirect, url_for\n",
        "from flask_ngrok import run_with_ngrok\n",
        "from keras.models import load_model\n",
        "from skimage import io\n",
        "import imageio\n",
        "import numpy as np\n",
        "import os\n",
        "from IPython.display import HTML\n",
        "\n",
        "# ALLOWED_EXTENSIONS = set(['png', 'jpg'])\n",
        "\n",
        "# モデル読み込み\n",
        "generator, kp_detector = load_checkpoints(config_path='config/vox-256.yaml', \n",
        "                        checkpoint_path='/content/drive/My Drive/FOMM/vox-cpk.pth.tar')\n",
        "\n",
        "\n",
        "app = Flask(__name__)\n",
        "run_with_ngrok(app)\n",
        "\n",
        "# # 画像拡張子判定\n",
        "# def allwed_file(filename):\n",
        "#     return '.' in filename and filename.rsplit('.', 1)[1].lower() in ALLOWED_EXTENSIONS\n",
        "\n",
        "# index表示\n",
        "@app.route(\"/\")\n",
        "def index():\n",
        "    return render_template(\"index.html\")\n",
        "\n",
        "# メイン処理\n",
        "@app.route('/post', methods=['POST'])\n",
        "def post():\n",
        "    try:\n",
        "        uploadFile = request.files['uploadFile']\n",
        "    except:\n",
        "        return redirect(url_for('index'))\n",
        "\n",
        "    uploadFile.save(\"tmp/\" + uploadFile.filename)\n",
        "\n",
        "    # img = imageio.imread(\"tmp/\" + uploadFile.filename)\n",
        "    img = io.imread(\"tmp/\" + uploadFile.filename)\n",
        "\n",
        "    # リサイズ\n",
        "    source_image = imageResize(img)\n",
        "    \n",
        "\n",
        "\n",
        "    fileName = str(np.random.randint(1000)) + \".jpg\"\n",
        "    io.imsave(\"tmp/\" + fileName, source_image)\n",
        "    ulr_Image = \"tmp/\" + fileName,source_image\n",
        "\n",
        "\n",
        "    # 実行\n",
        "    predictions = make_animation(source_image, driving_video, generator, kp_detector, relative=True)\n",
        "\n",
        "    # io.imsave('../generated.mp4', [img_as_ubyte(frame) for frame in predictions], fps=fps)\n",
        "    imageio.mimsave('../generated.mp4', [img_as_ubyte(frame) for frame in predictions], fps=fps)\n",
        "\n",
        "    video = \"/content/generated.mp4\"\n",
        "\n",
        "    # dis = display(source_image, driving_video, predictions)\n",
        "\n",
        "    return render_template( \"index.html\",\n",
        "                           ulr_Image = ulr_Image,\n",
        "                           source_image = source_image, \n",
        "                           driving_video = driving_video,\n",
        "                           predictions = video)\n",
        "    \n",
        "\n",
        "if __name__ == '__main__':\n",
        "    app.run()\n",
        "\n",
        "\n",
        "# #save resulting video\n",
        "# imageio.mimsave('../generated.mp4', [img_as_ubyte(frame) for frame in predictions], fps=fps)"
      ],
      "execution_count": 32,
      "outputs": [
        {
          "output_type": "stream",
          "text": [
            " * Running on http://127.0.0.1:5000/ (Press CTRL+C to quit)\n",
            "INFO:werkzeug: * Running on http://127.0.0.1:5000/ (Press CTRL+C to quit)\n"
          ],
          "name": "stderr"
        },
        {
          "output_type": "stream",
          "text": [
            " * Running on http://8f4f32641076.ngrok.io\n",
            " * Traffic stats available on http://127.0.0.1:4040\n"
          ],
          "name": "stdout"
        },
        {
          "output_type": "stream",
          "text": [
            "127.0.0.1 - - [27/Oct/2020 06:02:54] \"\u001b[37mGET / HTTP/1.1\u001b[0m\" 200 -\n",
            "INFO:werkzeug:127.0.0.1 - - [27/Oct/2020 06:02:54] \"\u001b[37mGET / HTTP/1.1\u001b[0m\" 200 -\n",
            "127.0.0.1 - - [27/Oct/2020 06:02:55] \"\u001b[33mGET /favicon.ico HTTP/1.1\u001b[0m\" 404 -\n",
            "INFO:werkzeug:127.0.0.1 - - [27/Oct/2020 06:02:55] \"\u001b[33mGET /favicon.ico HTTP/1.1\u001b[0m\" 404 -\n",
            "WARNING:root:Lossy conversion from float64 to uint8. Range [0, 1]. Convert image to uint8 prior to saving to suppress this warning.\n",
            "100%|██████████| 211/211 [00:04<00:00, 45.70it/s]\n",
            "127.0.0.1 - - [27/Oct/2020 06:03:04] \"\u001b[37mPOST /post HTTP/1.1\u001b[0m\" 200 -\n",
            "INFO:werkzeug:127.0.0.1 - - [27/Oct/2020 06:03:04] \"\u001b[37mPOST /post HTTP/1.1\u001b[0m\" 200 -\n",
            "127.0.0.1 - - [27/Oct/2020 06:03:04] \"\u001b[33mGET /ulr_Image HTTP/1.1\u001b[0m\" 404 -\n",
            "INFO:werkzeug:127.0.0.1 - - [27/Oct/2020 06:03:04] \"\u001b[33mGET /ulr_Image HTTP/1.1\u001b[0m\" 404 -\n"
          ],
          "name": "stderr"
        }
      ]
    }
  ]
}